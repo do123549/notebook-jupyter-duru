{
  "metadata": {
    "kernelspec": {
      "name": "SQLite",
      "display_name": "SQLite",
      "language": "sql"
    },
    "language_info": {
      "codemirror_mode": "sql",
      "file_extension": "",
      "mimetype": "",
      "name": "sql",
      "version": "3.32.3"
    }
  },
  "nbformat_minor": 5,
  "nbformat": 4,
  "cells": [
    {
      "id": "00f7e285-f902-40b1-bf8f-ac235cdc8625",
      "cell_type": "markdown",
      "source": "# H1 Data Science Tools and Ecosystem",
      "metadata": {}
    },
    {
      "id": "0f601380-f0ff-4758-a94b-5eb8031cfb1b",
      "cell_type": "markdown",
      "source": "In this notebook, Data Science Tools and Ecosystem are summarized",
      "metadata": {}
    },
    {
      "id": "781b82a4-6fd7-48a9-9b3e-834e1e49cfc7",
      "cell_type": "markdown",
      "source": "Some of the popular languages that Data Scientists use are:",
      "metadata": {}
    },
    {
      "id": "f747b9c0-ea2c-4f5f-a631-fa516e533d17",
      "cell_type": "markdown",
      "source": "Ordered List",
      "metadata": {}
    },
    {
      "id": "0802ee85-705f-46c1-b4b5-5336148d0cfc",
      "cell_type": "markdown",
      "source": "1.Pyhton\n2.R\n3.Java\n",
      "metadata": {}
    },
    {
      "id": "d6585c34-292a-487e-adf1-58edd4c957ca",
      "cell_type": "markdown",
      "source": "Some of the commonly used libraries used by Data Scientists include:",
      "metadata": {}
    },
    {
      "id": "0f4e016f-ecac-418f-9af6-d05e80002650",
      "cell_type": "markdown",
      "source": "Ordered List",
      "metadata": {}
    },
    {
      "id": "60522198-77ad-4625-a516-1ff35d45f9d9",
      "cell_type": "markdown",
      "source": "1.Pandas\n2.Seaborn\n3.Plotly",
      "metadata": {}
    },
    {
      "id": "6486c508-e10a-4434-b918-b3f9e958175a",
      "cell_type": "markdown",
      "source": "### Data Science Tools\n| Data Science Tools | \n|:--------:|\n|  Jupyter Notebook | \n|  Rstudio  |  \n|  VS Code  |  \n",
      "metadata": {}
    },
    {
      "id": "9bb1df5f-36de-446c-8b36-d14483f53a3f",
      "cell_type": "markdown",
      "source": "### H3 Below are a few examples of evaluating arithmetic expressions in Python",
      "metadata": {}
    },
    {
      "id": "7a576fe3-9c24-4634-8d3a-49b3b468cb78",
      "cell_type": "markdown",
      "source": "This a simple arithmetic expression to mutiply then add integers",
      "metadata": {}
    },
    {
      "id": "106f3d29-ef94-4b49-9b5b-b6e659858304",
      "cell_type": "code",
      "source": "(3*4)+5\n",
      "metadata": {
        "trusted": true
      },
      "outputs": [
        {
          "ename": "Error",
          "evalue": "Please load a database to perform operations",
          "traceback": [
            "Error: Please load a database to perform operations"
          ],
          "output_type": "error"
        }
      ],
      "execution_count": 8
    },
    {
      "id": "d83fcbac-2e0a-4259-b893-bcb630354239",
      "cell_type": "markdown",
      "source": "This will convert 200 minutes to hours by diving by 60",
      "metadata": {}
    },
    {
      "id": "5b071f98-93c3-4e3d-b817-ca938e8b97db",
      "cell_type": "code",
      "source": "200/60",
      "metadata": {
        "trusted": true
      },
      "outputs": [
        {
          "ename": "Error",
          "evalue": "Please load a database to perform operations",
          "traceback": [
            "Error: Please load a database to perform operations"
          ],
          "output_type": "error"
        }
      ],
      "execution_count": 9
    },
    {
      "id": "e19b0aa6-3004-4aa0-a938-2f8544f44375",
      "cell_type": "markdown",
      "source": " **Objectives:**\nunordered list:\nPopular languages for Data Science \n * Python \n * R  \n * SQL  \n * MATLAB \n * Julia \n\n  ",
      "metadata": {}
    },
    {
      "id": "bae32541-8177-4cae-967a-c1a77f95d15b",
      "cell_type": "markdown",
      "source": "## H2 Duru ",
      "metadata": {}
    },
    {
      "id": "be410101-2ebc-440b-ac85-030be24fa0b8",
      "cell_type": "code",
      "source": "",
      "metadata": {
        "trusted": true
      },
      "outputs": [],
      "execution_count": null
    }
  ]
}